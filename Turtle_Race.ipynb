{
 "cells": [
  {
   "cell_type": "code",
   "execution_count": 1,
   "metadata": {},
   "outputs": [
    {
     "name": "stdout",
     "output_type": "stream",
     "text": [
      "You've lost !\n",
      "orange has won\n",
      "red\n"
     ]
    }
   ],
   "source": [
    "import turtle\n",
    "import random\n",
    "s=turtle.Screen()\n",
    "s.setup(500,400)\n",
    "game_on = False\n",
    "user_bet=s.textinput(title=\"Make Your bet\", prompt=\"Which color do you think will win?\")\n",
    "colors=[\"red\",\"orange\",\"yellow\",\"green\",\"blue\",\"purple\"]\n",
    "all_turtle=[]\n",
    "\n",
    "y=-120\n",
    "for i in range(0,6):\n",
    "    t1=turtle.Turtle(shape=\"turtle\")\n",
    "    t1.color(colors[i])\n",
    "    t1.penup()\n",
    "    t1.setposition(-230,y)\n",
    "    y=y+40\n",
    "    all_turtle.append(t1)\n",
    "    \n",
    "if(user_bet):\n",
    "    game_on = True\n",
    "    \n",
    "while(game_on):\n",
    "    for turtle in all_turtle:\n",
    "        rand_dist=random.randint(0,10)\n",
    "        turtle.forward(rand_dist)\n",
    "        if turtle.xcor()>230 :\n",
    "            game_on=False\n",
    "            if(turtle.pencolor()==user_bet):\n",
    "                print(\"You've won !\")\n",
    "            else:\n",
    "                print(\"You've lost !\")\n",
    "                print(f\"{turtle.pencolor()} has won\")\n",
    "print(user_bet)"
   ]
  },
  {
   "cell_type": "code",
   "execution_count": 2,
   "metadata": {},
   "outputs": [],
   "source": [
    "s.clear()"
   ]
  },
  {
   "cell_type": "code",
   "execution_count": 4,
   "metadata": {},
   "outputs": [],
   "source": [
    "s.bye()"
   ]
  },
  {
   "cell_type": "code",
   "execution_count": null,
   "metadata": {},
   "outputs": [],
   "source": []
  }
 ],
 "metadata": {
  "kernelspec": {
   "display_name": "Python 3",
   "language": "python",
   "name": "python3"
  },
  "language_info": {
   "codemirror_mode": {
    "name": "ipython",
    "version": 3
   },
   "file_extension": ".py",
   "mimetype": "text/x-python",
   "name": "python",
   "nbconvert_exporter": "python",
   "pygments_lexer": "ipython3",
   "version": "3.7.4"
  }
 },
 "nbformat": 4,
 "nbformat_minor": 2
}
